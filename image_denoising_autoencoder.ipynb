{
 "cells": [
  {
   "cell_type": "code",
   "execution_count": 1,
   "id": "d0c075a0-b633-41db-b887-4a27ff56b48c",
   "metadata": {},
   "outputs": [],
   "source": [
    "import numpy as np\n",
    "import matplotlib.pyplot as plt\n",
    "import os\n",
    "os.environ['KMP_DUPLICATE_LIB_OK'] = 'TRUE'\n",
    "import tensorflow as tf\n",
    "from tensorflow.keras.layers import Input, Conv2D, MaxPooling2D, UpSampling2D\n",
    "from tensorflow.keras.models import Model\n",
    "from tensorflow.keras.datasets import mnist"
   ]
  },
  {
   "cell_type": "markdown",
   "id": "c5254705-98df-4568-a659-e877ca230276",
   "metadata": {},
   "source": [
    "# Load and Prepare the MNIST Dataset"
   ]
  },
  {
   "cell_type": "code",
   "execution_count": 2,
   "id": "c290c2b1-413a-40ae-9d67-d661cc99be70",
   "metadata": {},
   "outputs": [],
   "source": [
    "# Load MNIST dataset\n",
    "(X_train, _), (X_test, _) = mnist.load_data()\n",
    "\n",
    "# Normalize the images\n",
    "X_train = X_train.astype('float32') / 255.\n",
    "X_test = X_test.astype('float32') / 255.\n",
    "\n",
    "# Reshape the images to add a channel dimension\n",
    "X_train = np.reshape(X_train, (len(X_train), 28, 28, 1))\n",
    "X_test = np.reshape(X_test, (len(X_test), 28, 28, 1))\n",
    "\n",
    "# Add random noise to the images\n",
    "noise_factor = 0.5\n",
    "X_train_noisy = X_train + noise_factor * np.random.normal(loc=0.0, scale=1.0, size=X_train.shape)\n",
    "X_test_noisy = X_test + noise_factor * np.random.normal(loc=0.0, scale=1.0, size=X_test.shape)\n",
    "\n",
    "# Clip the values to be between 0 and 1\n",
    "X_train_noisy = np.clip(X_train_noisy, 0., 1.)\n",
    "X_test_noisy = np.clip(X_test_noisy, 0., 1.)"
   ]
  },
  {
   "cell_type": "markdown",
   "id": "de8c17d9-46c4-4aad-bf4e-ae43d6b4649c",
   "metadata": {},
   "source": [
    "# Visualize Noisy Images"
   ]
  },
  {
   "cell_type": "code",
   "execution_count": 3,
   "id": "522c49be-62de-4af0-af31-99139f99bbb3",
   "metadata": {},
   "outputs": [
    {
     "data": {
      "image/png": "[encoded data removed]",
      "text/plain": [
       "<Figure size 1000x400 with 5 Axes>"
      ]
     },
     "metadata": {},
     "output_type": "display_data"
    }
   ],
   "source": [
    "# Display a few noisy images\n",
    "n = 5\n",
    "plt.figure(figsize=(10, 4))\n",
    "for i in range(n):\n",
    "    plt.subplot(1, n, i+1)\n",
    "    plt.imshow(X_test_noisy[i].reshape(28, 28), cmap='gray')\n",
    "    plt.axis('off')\n",
    "plt.show()"
   ]
  },
  {
   "cell_type": "markdown",
   "id": "7260f9e9-d81b-49c2-8a19-c262bf6678db",
   "metadata": {},
   "source": [
    "# Build the Autoencoder Model"
   ]
  },
  {
   "cell_type": "code",
   "execution_count": 4,
   "id": "feee0c8d-2dde-4cc0-a003-e50dd587b9bc",
   "metadata": {},
   "outputs": [],
   "source": [
    "def build_autoencoder():\n",
    "    input_img = Input(shape=(28, 28, 1))\n",
    "\n",
    "    # Encoder\n",
    "    x = Conv2D(32, (3, 3), activation='relu', padding='same')(input_img)\n",
    "    x = MaxPooling2D((2, 2), padding='same')(x)\n",
    "    x = Conv2D(64, (3, 3), activation='relu', padding='same')(x)\n",
    "    encoded = MaxPooling2D((2, 2), padding='same')(x)\n",
    "\n",
    "    # Decoder\n",
    "    x = Conv2D(64, (3, 3), activation='relu', padding='same')(encoded)\n",
    "    x = UpSampling2D((2, 2))(x)\n",
    "    x = Conv2D(32, (3, 3), activation='relu', padding='same')(x)\n",
    "    x = UpSampling2D((2, 2))(x)\n",
    "    decoded = Conv2D(1, (3, 3), activation='sigmoid', padding='same')(x)\n",
    "\n",
    "    # Autoencoder model\n",
    "    autoencoder = Model(input_img, decoded)\n",
    "    return autoencoder\n",
    "\n",
    "# Build the model\n",
    "autoencoder = build_autoencoder()\n",
    "\n",
    "# Compile the model\n",
    "autoencoder.compile(optimizer='adam', loss='binary_crossentropy')"
   ]
  },
  {
   "cell_type": "markdown",
   "id": "2e4db446-28d2-4d04-afd8-e4dabab2e33c",
   "metadata": {},
   "source": [
    "# Train the Model"
   ]
  },
  {
   "cell_type": "code",
   "execution_count": 5,
   "id": "97575534-8e3d-499b-80f0-cb64b8b6e368",
   "metadata": {},
   "outputs": [
    {
     "name": "stdout",
     "output_type": "stream",
     "text": [
      "Epoch 1/10\n",
      "469/469 [==============================] - 245s 519ms/step - loss: 0.1497 - val_loss: 0.1109\n",
      "Epoch 2/10\n",
      "469/469 [==============================] - 243s 518ms/step - loss: 0.1081 - val_loss: 0.1039\n",
      "Epoch 3/10\n",
      "469/469 [==============================] - 241s 514ms/step - loss: 0.1033 - val_loss: 0.1008\n",
      "Epoch 4/10\n",
      "469/469 [==============================] - 241s 514ms/step - loss: 0.1009 - val_loss: 0.0995\n",
      "Epoch 5/10\n",
      "469/469 [==============================] - 242s 515ms/step - loss: 0.0994 - val_loss: 0.0980\n",
      "Epoch 6/10\n",
      "469/469 [==============================] - 241s 515ms/step - loss: 0.0983 - val_loss: 0.0975\n",
      "Epoch 7/10\n",
      "469/469 [==============================] - 238s 508ms/step - loss: 0.0975 - val_loss: 0.0963\n",
      "Epoch 8/10\n",
      "469/469 [==============================] - 232s 493ms/step - loss: 0.0968 - val_loss: 0.0959\n",
      "Epoch 9/10\n",
      "469/469 [==============================] - 238s 507ms/step - loss: 0.0962 - val_loss: 0.0954\n",
      "Epoch 10/10\n",
      "469/469 [==============================] - 235s 502ms/step - loss: 0.0957 - val_loss: 0.0954\n"
     ]
    }
   ],
   "source": [
    "# Train the autoencoder\n",
    "history = autoencoder.fit(X_train_noisy, X_train,\n",
    "                          epochs=10,\n",
    "                          batch_size=128,\n",
    "                          shuffle=True,\n",
    "                          validation_data=(X_test_noisy, X_test))"
   ]
  },
  {
   "cell_type": "markdown",
   "id": "3d525b26-3b03-45b3-993f-814d57913220",
   "metadata": {},
   "source": [
    "# Visualize Denoising Results on Test Data"
   ]
  },
  {
   "cell_type": "code",
   "execution_count": 7,
   "id": "a080b311-3b34-40ad-b48e-c371bc14eecc",
   "metadata": {},
   "outputs": [
    {
     "name": "stdout",
     "output_type": "stream",
     "text": [
      "313/313 [==============================] - 3s 10ms/step\n"
     ]
    },
    {
     "data": {
      "image/png": "[encoded data removed]",
      "text/plain": [
       "<Figure size 1000x400 with 10 Axes>"
      ]
     },
     "metadata": {},
     "output_type": "display_data"
    }
   ],
   "source": [
    "# Predict the denoised images\n",
    "decoded_imgs = autoencoder.predict(X_test_noisy)\n",
    "\n",
    "# Display original noisy and denoised images\n",
    "n = 5\n",
    "plt.figure(figsize=(10, 4))\n",
    "for i in range(n):\n",
    "    # Display noisy image\n",
    "    plt.subplot(2, n, i + 1)\n",
    "    plt.imshow(X_test_noisy[i].reshape(28, 28), cmap='gray')\n",
    "    plt.title(\"Noisy\")\n",
    "    plt.axis('off')\n",
    "\n",
    "    # Display denoised image\n",
    "    plt.subplot(2, n, i + 1 + n)\n",
    "    plt.imshow(decoded_imgs[i].reshape(28, 28), cmap='gray')\n",
    "    plt.title(\"Denoised\")\n",
    "    plt.axis('off')\n",
    "\n",
    "plt.show()"
   ]
  },
  {
   "cell_type": "markdown",
   "id": "6e326478-6d9f-4113-9418-c85aa2515ba3",
   "metadata": {},
   "source": [
    "# Test Denoising on an External Image"
   ]
  },
  {
   "cell_type": "code",
   "execution_count": null,
   "id": "9bd0f198-5dba-41ca-aa5a-1008274521c6",
   "metadata": {},
   "outputs": [],
   "source": [
    "from skimage import io, color, img_as_float\n",
    "from skimage.transform import resize\n",
    "\n",
    "# Load external image and add noise\n",
    "external_img = io.imread('image.png')  # Load an external image\n",
    "external_img = color.rgb2gray(external_img)  # Convert to grayscale\n",
    "external_img = resize(external_img, (28, 28))  # Resize to 28x28\n",
    "external_img = img_as_float(external_img)\n",
    "\n",
    "# Add noise\n",
    "external_img_noisy = external_img + noise_factor * np.random.normal(loc=0.0, scale=1.0, size=external_img.shape)\n",
    "external_img_noisy = np.clip(external_img_noisy, 0., 1.)\n",
    "\n",
    "# Reshape to match model input shape\n",
    "external_img_noisy = np.reshape(external_img_noisy, (1, 28, 28, 1))\n",
    "\n",
    "# Denoise using the model\n",
    "external_img_denoised = autoencoder.predict(external_img_noisy)\n",
    "\n",
    "# Display noisy and denoised images\n",
    "plt.figure(figsize=(6, 3))\n",
    "\n",
    "# Noisy image\n",
    "plt.subplot(1, 2, 1)\n",
    "plt.imshow(external_img_noisy.reshape(28, 28), cmap='gray')\n",
    "plt.title(\"Noisy Image\")\n",
    "plt.axis('off')\n",
    "\n",
    "# Denoised image\n",
    "plt.subplot(1, 2, 2)\n",
    "plt.imshow(external_img_denoised.reshape(28, 28), cmap='gray')\n",
    "plt.title(\"Denoised Image\")\n",
    "plt.axis('off')\n",
    "\n",
    "plt.show()"
   ]
  }
 ],
 "metadata": {
  "kernelspec": {
   "display_name": "Python 3 (ipykernel)",
   "language": "python",
   "name": "python3"
  },
  "language_info": {
   "codemirror_mode": {
    "name": "ipython",
    "version": 3
   },
   "file_extension": ".py",
   "mimetype": "text/x-python",
   "name": "python",
   "nbconvert_exporter": "python",
   "pygments_lexer": "ipython3",
   "version": "3.9.18"
  }
 },
 "nbformat": 4,
 "nbformat_minor": 5
}
